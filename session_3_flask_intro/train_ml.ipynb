{
    "cells": [
        {
            "cell_type": "code",
            "id": "#VSC-7996ab66",
            "metadata": {
                "language": "python"
            },
            "source": [
                "import pandas as pd",
                "import numpy as np"
            ]
        },
        {
            "cell_type": "code",
            "id": "#VSC-57741427",
            "metadata": {
                "language": "python"
            },
            "source": [
                "train_df = pd.read_csv(",
                "\t'train_flask.csv'",
                ")",
                "",
                "train_df"
            ]
        },
        {
            "cell_type": "code",
            "id": "#VSC-7dc8f8cf",
            "metadata": {
                "language": "python"
            },
            "source": [
                "train_df.info()"
            ]
        },
        {
            "cell_type": "code",
            "id": "#VSC-52259eee",
            "metadata": {
                "language": "python"
            },
            "source": [
                "train_df['Gender']= train_df['Gender'].map({'Male':0, 'Female':1})",
                "train_df['Married']= train_df['Married'].map({'No':0, 'Yes':1})",
                "train_df['Loan_Status']= train_df['Loan_Status'].map({'N':0, 'Y':1})",
                "",
                "",
                "## dropping all the missing values",
                "train_df = train_df.dropna()",
                "train_df.isnull().sum()",
                "",
                "X = train_df[['Gender', 'Married', 'ApplicantIncome', 'LoanAmount', 'Credit_History']]",
                "y = train_df.Loan_Status",
                "",
                "X.shape, y.shape"
            ]
        },
        {
            "cell_type": "code",
            "id": "#VSC-ffdc8b55",
            "metadata": {
                "language": "python"
            },
            "source": [
                "from sklearn import linear_model",
                "",
                "",
                "model = linear_model.LogisticRegression()",
                "model.fit(X, y)"
            ]
        },
        {
            "cell_type": "code",
            "id": "#VSC-d6e57ef8",
            "metadata": {
                "language": "python"
            },
            "source": [
                "import joblib",
                "joblib.dump(model, 'classifier.pkl')"
            ]
        },
        {
            "cell_type": "code",
            "id": "#VSC-53be8483",
            "metadata": {
                "language": "python"
            },
            "source": [
                "###completed"
            ]
        }
    ]
}